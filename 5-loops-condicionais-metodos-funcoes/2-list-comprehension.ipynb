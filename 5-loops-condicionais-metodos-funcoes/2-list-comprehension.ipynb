{
 "cells": [
  {
   "cell_type": "code",
   "execution_count": 1,
   "metadata": {},
   "outputs": [
    {
     "name": "stdout",
     "output_type": "stream",
     "text": [
      "[0, 1, 2, 3, 4, 5, 6, 7, 8, 9]\n"
     ]
    }
   ],
   "source": [
    "# retorne x para cada valor de x numa lista de 10 elementos\n",
    "\n",
    "lista_valores = [x for x in range(10)]\n",
    "\n",
    "print(lista_valores)"
   ]
  },
  {
   "cell_type": "code",
   "execution_count": 3,
   "metadata": {},
   "outputs": [
    {
     "name": "stdout",
     "output_type": "stream",
     "text": [
      "[0, 1, 2, 3, 4]\n"
     ]
    }
   ],
   "source": [
    "# retorne x para cada valor de x numa lista de 10 elementos se o x for menor que 5\n",
    "\n",
    "lista_numeros = [x for x in range(10) if x < 5]\n",
    "\n",
    "print(lista_numeros)"
   ]
  },
  {
   "cell_type": "code",
   "execution_count": 7,
   "metadata": {},
   "outputs": [
    {
     "name": "stdout",
     "output_type": "stream",
     "text": [
      "['morango', 'melancia']\n"
     ]
    }
   ],
   "source": [
    "frutas = ['morango', 'melancia', 'banana']\n",
    "\n",
    "# retorne x para cada x em lista de frutas se m estiver em x\n",
    "\n",
    "frutas_letra_m = [x for x in frutas if 'm' in x]\n",
    "\n",
    "print(frutas_letra_m)"
   ]
  }
 ],
 "metadata": {
  "kernelspec": {
   "display_name": "Python 3",
   "language": "python",
   "name": "python3"
  },
  "language_info": {
   "codemirror_mode": {
    "name": "ipython",
    "version": 3
   },
   "file_extension": ".py",
   "mimetype": "text/x-python",
   "name": "python",
   "nbconvert_exporter": "python",
   "pygments_lexer": "ipython3",
   "version": "3.12.4"
  }
 },
 "nbformat": 4,
 "nbformat_minor": 2
}
