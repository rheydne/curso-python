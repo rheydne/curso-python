{
 "cells": [
  {
   "cell_type": "code",
   "execution_count": 2,
   "metadata": {},
   "outputs": [
    {
     "name": "stdout",
     "output_type": "stream",
     "text": [
      "{'Bob': 23, 'Carla': 22}\n"
     ]
    }
   ],
   "source": [
    "dict_alunos = {'Bob': 23, 'Carla': 22}\n",
    "\n",
    "status_alunos = {k:v for (k, v) in dict_alunos.items()}\n",
    "\n",
    "print(status_alunos)"
   ]
  },
  {
   "cell_type": "code",
   "execution_count": 3,
   "metadata": {},
   "outputs": [
    {
     "name": "stdout",
     "output_type": "stream",
     "text": [
      "{'Bob': 'Aprovado', 'Carla': 'Reprovado'}\n"
     ]
    }
   ],
   "source": [
    "nota_final = {k: ('Aprovado' if v > 22 else 'Reprovado') for (k, v) in dict_alunos.items()}\n",
    "\n",
    "print(nota_final)"
   ]
  }
 ],
 "metadata": {
  "kernelspec": {
   "display_name": "Python 3",
   "language": "python",
   "name": "python3"
  },
  "language_info": {
   "codemirror_mode": {
    "name": "ipython",
    "version": 3
   },
   "file_extension": ".py",
   "mimetype": "text/x-python",
   "name": "python",
   "nbconvert_exporter": "python",
   "pygments_lexer": "ipython3",
   "version": "3.12.4"
  }
 },
 "nbformat": 4,
 "nbformat_minor": 2
}
