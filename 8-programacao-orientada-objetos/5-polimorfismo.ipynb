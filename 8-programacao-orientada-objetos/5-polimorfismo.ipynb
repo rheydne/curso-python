{
 "cells": [
  {
   "cell_type": "code",
   "execution_count": 1,
   "metadata": {},
   "outputs": [
    {
     "name": "stdout",
     "output_type": "stream",
     "text": [
      "O cachorro late\n",
      "O gato mia\n"
     ]
    }
   ],
   "source": [
    "# Polimorfismo em Python significa que diferentes classes podem ter métodos com o mesmo nome, mas implementados de maneiras diferentes. \n",
    "# Isso permite que você trate objetos de várias classes de forma genérica, sem se preocupar com o tipo exato de objeto com o qual está lidando. \n",
    "# O comportamento do método depende do tipo do objeto que o está chamando.\n",
    "\n",
    "# Como isso funciona na prática?\n",
    "# Quando você define uma classe, pode criar métodos que possuem o mesmo nome em classes diferentes. \n",
    "# Mesmo que esses métodos façam coisas diferentes, você pode chamá-los de maneira uniforme.\n",
    "\n",
    "# Exemplo simples:\n",
    "\n",
    "class Cachorro:\n",
    "    def fazer_som(self):\n",
    "        return \"O cachorro late\"\n",
    "\n",
    "class Gato:\n",
    "    def fazer_som(self):\n",
    "        return \"O gato mia\"\n",
    "\n",
    "def emitir_som(animal):\n",
    "    print(animal.fazer_som())\n",
    "\n",
    "# Usando polimorfismo\n",
    "cachorro = Cachorro()\n",
    "gato = Gato()\n",
    "\n",
    "emitir_som(cachorro)  # Saída: O cachorro late\n",
    "emitir_som(gato)      # Saída: O gato mia\n",
    "\n",
    "# No exemplo acima, as classes Cachorro e Gato possuem o método fazer_som(), mas com implementações diferentes. \n",
    "# Mesmo assim, podemos passar os dois tipos de objeto para a função emitir_som(), e ela chamará o método correto para cada tipo.\n",
    "\n",
    "# Ou seja, o polimorfismo permite que objetos de classes diferentes respondam ao mesmo método de maneiras distintas, sem que você precise \n",
    "# saber a classe exata com a qual está trabalhando."
   ]
  },
  {
   "cell_type": "code",
   "execution_count": 1,
   "metadata": {},
   "outputs": [],
   "source": [
    "# Superclasse\n",
    "class Veiculo:\n",
    "    \n",
    "    def __init__(self, marca, modelo):\n",
    "        self.marca = marca\n",
    "        self.modelo = modelo\n",
    "\n",
    "    def acelerar(self):\n",
    "        pass\n",
    "\n",
    "    def frear(self):\n",
    "        pass"
   ]
  },
  {
   "cell_type": "code",
   "execution_count": 2,
   "metadata": {},
   "outputs": [],
   "source": [
    "# Subclasse\n",
    "class Carro(Veiculo):\n",
    "    \n",
    "    def acelerar(self):\n",
    "        print(\"O carro está acelerando.\")\n",
    "\n",
    "    def frear(self):\n",
    "        print(\"O carro está freando.\")"
   ]
  },
  {
   "cell_type": "code",
   "execution_count": 3,
   "metadata": {},
   "outputs": [],
   "source": [
    "# Subclasse\n",
    "class Moto(Veiculo):\n",
    "    \n",
    "    def acelerar(self):\n",
    "        print(\"A moto está acelerando.\")\n",
    "\n",
    "    def frear(self):\n",
    "        print(\"A moto está freando.\")"
   ]
  },
  {
   "cell_type": "code",
   "execution_count": 4,
   "metadata": {},
   "outputs": [],
   "source": [
    "# Subclasse\n",
    "class Aviao(Veiculo):\n",
    "    \n",
    "    def acelerar(self):\n",
    "        print(\"O avião está acelerando.\")\n",
    "\n",
    "    def frear(self):\n",
    "        print(\"O avião está freando.\")\n",
    "\n",
    "    def decolar(self):\n",
    "        print(\"O avião está decolando.\")"
   ]
  },
  {
   "cell_type": "code",
   "execution_count": 5,
   "metadata": {},
   "outputs": [],
   "source": [
    "# Cria os objetos\n",
    "lista_veiculos = [Carro(\"Porsche\", \"911 Turbo\"), Moto(\"Honda\", \"CB 1000R Black Edition\"), Aviao(\"Boeing\", \"757\")]"
   ]
  },
  {
   "cell_type": "code",
   "execution_count": 6,
   "metadata": {},
   "outputs": [
    {
     "data": {
      "text/plain": [
       "list"
      ]
     },
     "execution_count": 6,
     "metadata": {},
     "output_type": "execute_result"
    }
   ],
   "source": [
    "type(lista_veiculos)"
   ]
  },
  {
   "cell_type": "code",
   "execution_count": 8,
   "metadata": {},
   "outputs": [
    {
     "name": "stdout",
     "output_type": "stream",
     "text": [
      "[<__main__.Carro object at 0x000001A6ED9DF3E0>, <__main__.Moto object at 0x000001A6EC5F55B0>, <__main__.Aviao object at 0x000001A6EDCB6570>]\n"
     ]
    }
   ],
   "source": [
    "print(lista_veiculos)"
   ]
  },
  {
   "cell_type": "code",
   "execution_count": 7,
   "metadata": {},
   "outputs": [
    {
     "name": "stdout",
     "output_type": "stream",
     "text": [
      "O carro está acelerando.\n",
      "O carro está freando.\n",
      "---\n",
      "A moto está acelerando.\n",
      "A moto está freando.\n",
      "---\n",
      "O avião está acelerando.\n",
      "O avião está freando.\n",
      "O avião está decolando.\n",
      "---\n"
     ]
    }
   ],
   "source": [
    "# Loop\n",
    "for item in lista_veiculos:\n",
    "    \n",
    "    # O método acelerar tem comportamento diferente dependendo do tipo de objeto\n",
    "    item.acelerar()\n",
    "    \n",
    "    # O método frear tem comportamento diferente dependendo do tipo de objeto\n",
    "    item.frear()\n",
    "\n",
    "    # Executamos o método decolar somente se o o objeto for instância da classe Aviao\n",
    "    if isinstance(item, Aviao):\n",
    "        item.decolar()\n",
    "\n",
    "    print(\"---\")"
   ]
  }
 ],
 "metadata": {
  "kernelspec": {
   "display_name": "Python 3",
   "language": "python",
   "name": "python3"
  },
  "language_info": {
   "codemirror_mode": {
    "name": "ipython",
    "version": 3
   },
   "file_extension": ".py",
   "mimetype": "text/x-python",
   "name": "python",
   "nbconvert_exporter": "python",
   "pygments_lexer": "ipython3",
   "version": "3.12.6"
  }
 },
 "nbformat": 4,
 "nbformat_minor": 2
}
