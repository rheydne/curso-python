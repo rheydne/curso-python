{
 "cells": [
  {
   "cell_type": "code",
   "execution_count": 17,
   "metadata": {},
   "outputs": [],
   "source": [
    "import sqlite3\n",
    "import pandas as pd\n",
    "\n",
    "# Conecta no banco de dados\n",
    "con = sqlite3.connect('cap12_dsa.db')\n",
    "\n",
    "# Abre um cursor para percorrer os dados no banco de dados\n",
    "cursor = con.cursor()"
   ]
  },
  {
   "cell_type": "code",
   "execution_count": 18,
   "metadata": {},
   "outputs": [],
   "source": [
    "# Cria uma instrução SQL para calcular a média de unidades vendidas\n",
    "query2 = 'SELECT AVG(Unidades_Vendidas) FROM tb_vendas_dsa'"
   ]
  },
  {
   "cell_type": "code",
   "execution_count": 19,
   "metadata": {},
   "outputs": [],
   "source": [
    "dados = cursor.execute(query2)"
   ]
  },
  {
   "cell_type": "code",
   "execution_count": 20,
   "metadata": {},
   "outputs": [
    {
     "data": {
      "text/plain": [
       "[(10.506,)]"
      ]
     },
     "execution_count": 20,
     "metadata": {},
     "output_type": "execute_result"
    }
   ],
   "source": [
    "dados.fetchall()"
   ]
  },
  {
   "cell_type": "code",
   "execution_count": 21,
   "metadata": {},
   "outputs": [],
   "source": [
    "# Cria uma instrução SQL para calcular a média de unidades vendidas por produto\n",
    "query3 = 'SELECT Nome_Produto, AVG(Unidades_Vendidas) FROM tb_vendas_dsa GROUP BY Nome_Produto'"
   ]
  },
  {
   "cell_type": "code",
   "execution_count": 22,
   "metadata": {},
   "outputs": [
    {
     "data": {
      "text/plain": [
       "<sqlite3.Cursor at 0x1ecb9b94fc0>"
      ]
     },
     "execution_count": 22,
     "metadata": {},
     "output_type": "execute_result"
    }
   ],
   "source": [
    "# Executa a query no banco de dados\n",
    "cursor.execute(query3)"
   ]
  },
  {
   "cell_type": "code",
   "execution_count": 23,
   "metadata": {},
   "outputs": [
    {
     "data": {
      "text/plain": [
       "[('Produto_1', 12.0),\n",
       " ('Produto_10', 9.5),\n",
       " ('Produto_11', 14.181818181818182),\n",
       " ('Produto_12', 8.846153846153847),\n",
       " ('Produto_13', 6.0),\n",
       " ('Produto_14', 9.166666666666666),\n",
       " ('Produto_15', 9.75),\n",
       " ('Produto_16', 8.25),\n",
       " ('Produto_17', 11.714285714285714),\n",
       " ('Produto_18', 13.083333333333334),\n",
       " ('Produto_19', 9.727272727272727),\n",
       " ('Produto_2', 9.25),\n",
       " ('Produto_20', 7.555555555555555),\n",
       " ('Produto_21', 10.285714285714286),\n",
       " ('Produto_22', 13.6875),\n",
       " ('Produto_23', 10.818181818181818),\n",
       " ('Produto_24', 12.272727272727273),\n",
       " ('Produto_25', 9.538461538461538),\n",
       " ('Produto_26', 9.363636363636363),\n",
       " ('Produto_27', 11.1),\n",
       " ('Produto_28', 9.0),\n",
       " ('Produto_29', 9.692307692307692),\n",
       " ('Produto_3', 8.909090909090908),\n",
       " ('Produto_30', 9.875),\n",
       " ('Produto_31', 7.9),\n",
       " ('Produto_32', 11.923076923076923),\n",
       " ('Produto_33', 12.285714285714286),\n",
       " ('Produto_34', 8.1),\n",
       " ('Produto_35', 9.0),\n",
       " ('Produto_36', 9.090909090909092),\n",
       " ('Produto_37', 11.0),\n",
       " ('Produto_38', 12.8),\n",
       " ('Produto_39', 12.666666666666666),\n",
       " ('Produto_4', 11.153846153846153),\n",
       " ('Produto_40', 7.25),\n",
       " ('Produto_41', 11.857142857142858),\n",
       " ('Produto_42', 10.272727272727273),\n",
       " ('Produto_43', 11.0),\n",
       " ('Produto_44', 7.2),\n",
       " ('Produto_45', 8.875),\n",
       " ('Produto_46', 12.142857142857142),\n",
       " ('Produto_47', 10.571428571428571),\n",
       " ('Produto_48', 14.0),\n",
       " ('Produto_49', 11.875),\n",
       " ('Produto_5', 10.2),\n",
       " ('Produto_50', 10.545454545454545),\n",
       " ('Produto_6', 12.0),\n",
       " ('Produto_7', 13.5625),\n",
       " ('Produto_8', 11.071428571428571),\n",
       " ('Produto_9', 7.2)]"
      ]
     },
     "execution_count": 23,
     "metadata": {},
     "output_type": "execute_result"
    }
   ],
   "source": [
    "# Visualiza o resultado\n",
    "cursor.fetchall()"
   ]
  },
  {
   "cell_type": "code",
   "execution_count": 24,
   "metadata": {},
   "outputs": [],
   "source": [
    "# Cria uma instrução SQL para calcular a média de unidades vendidas por produto,\n",
    "# quando o valor unitário for maior que 199\n",
    "query4 = \"\"\"SELECT Nome_Produto, AVG(Unidades_Vendidas) \n",
    "            FROM tb_vendas_dsa \n",
    "            WHERE Valor_Unitario > 199 \n",
    "            GROUP BY Nome_Produto\"\"\""
   ]
  },
  {
   "cell_type": "code",
   "execution_count": 25,
   "metadata": {},
   "outputs": [
    {
     "data": {
      "text/plain": [
       "<sqlite3.Cursor at 0x1ecb9b94fc0>"
      ]
     },
     "execution_count": 25,
     "metadata": {},
     "output_type": "execute_result"
    }
   ],
   "source": [
    "# Executa a query no banco de dados\n",
    "cursor.execute(query4)"
   ]
  },
  {
   "cell_type": "code",
   "execution_count": 26,
   "metadata": {},
   "outputs": [
    {
     "data": {
      "text/plain": [
       "[('Produto_11', 1.0),\n",
       " ('Produto_15', 8.0),\n",
       " ('Produto_17', 14.0),\n",
       " ('Produto_20', 7.0),\n",
       " ('Produto_39', 16.0)]"
      ]
     },
     "execution_count": 26,
     "metadata": {},
     "output_type": "execute_result"
    }
   ],
   "source": [
    "# Visualiza o resultado\n",
    "cursor.fetchall()"
   ]
  }
 ],
 "metadata": {
  "kernelspec": {
   "display_name": "Python 3",
   "language": "python",
   "name": "python3"
  },
  "language_info": {
   "codemirror_mode": {
    "name": "ipython",
    "version": 3
   },
   "file_extension": ".py",
   "mimetype": "text/x-python",
   "name": "python",
   "nbconvert_exporter": "python",
   "pygments_lexer": "ipython3",
   "version": "3.12.0"
  }
 },
 "nbformat": 4,
 "nbformat_minor": 2
}
