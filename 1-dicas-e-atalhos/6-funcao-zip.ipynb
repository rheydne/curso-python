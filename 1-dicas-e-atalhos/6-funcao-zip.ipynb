{
 "cells": [
  {
   "cell_type": "markdown",
   "metadata": {},
   "source": [
    "### Função Zip\n",
    "\n",
    "Serve para unir os valores de dois objetos (listas, tuplas ou dicionarios)\n",
    "\n",
    "No caso de dicionario, ele une uma chave com a outra, ou entao a chave de um dicionario com o valor do outro\n",
    "\n",
    "Ele também somente vai retornar quantidade de itens iguais, se as duas listas tem 2 elementos da match, mas se uma tem 2 e a outra tem 3, ele so vai fazer duas combinações"
   ]
  },
  {
   "cell_type": "code",
   "execution_count": 1,
   "metadata": {},
   "outputs": [
    {
     "name": "stdout",
     "output_type": "stream",
     "text": [
      "[('Alice', 25), ('Bob', 30), ('Charlie', 35)]\n"
     ]
    }
   ],
   "source": [
    "nomes = ['Alice', 'Bob', 'Charlie']\n",
    "idades = [25, 30, 35]\n",
    "\n",
    "combinados = zip(nomes, idades)\n",
    "\n",
    "combinados = list(combinados)\n",
    "\n",
    "print(combinados)  \n"
   ]
  },
  {
   "cell_type": "code",
   "execution_count": 2,
   "metadata": {},
   "outputs": [
    {
     "name": "stdout",
     "output_type": "stream",
     "text": [
      "[('Alice', 25, 'Nova York'), ('Bob', 30, 'Los Angeles'), ('Charlie', 35, 'Chicago')]\n"
     ]
    }
   ],
   "source": [
    "nomes = ['Alice', 'Bob', 'Charlie']\n",
    "idades = [25, 30, 35]\n",
    "cidades = ['Nova York', 'Los Angeles', 'Chicago']\n",
    "\n",
    "combinados = zip(nomes, idades, cidades)\n",
    "\n",
    "combinados = list(combinados)\n",
    "\n",
    "print(combinados) \n"
   ]
  },
  {
   "cell_type": "code",
   "execution_count": 3,
   "metadata": {},
   "outputs": [
    {
     "data": {
      "text/plain": [
       "list"
      ]
     },
     "execution_count": 3,
     "metadata": {},
     "output_type": "execute_result"
    }
   ],
   "source": [
    "type(combinados)"
   ]
  },
  {
   "cell_type": "code",
   "execution_count": 5,
   "metadata": {},
   "outputs": [
    {
     "name": "stdout",
     "output_type": "stream",
     "text": [
      "[('Maria', 20), ('Alice', 22)]\n"
     ]
    }
   ],
   "source": [
    "lista1 = ['Maria', 'Alice']\n",
    "lista2 = [20, 22, 25, 27]\n",
    "\n",
    "resultado = list(zip(lista1, lista2))\n",
    "\n",
    "print(resultado)"
   ]
  }
 ],
 "metadata": {
  "kernelspec": {
   "display_name": "Python 3",
   "language": "python",
   "name": "python3"
  },
  "language_info": {
   "codemirror_mode": {
    "name": "ipython",
    "version": 3
   },
   "file_extension": ".py",
   "mimetype": "text/x-python",
   "name": "python",
   "nbconvert_exporter": "python",
   "pygments_lexer": "ipython3",
   "version": "3.12.4"
  }
 },
 "nbformat": 4,
 "nbformat_minor": 2
}
